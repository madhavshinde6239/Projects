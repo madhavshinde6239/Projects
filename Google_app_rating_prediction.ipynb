{
 "cells": [
  {
   "cell_type": "markdown",
   "id": "f6c30665",
   "metadata": {},
   "source": [
    "                                                                         \n",
    "## Project Name: \n",
    "## Make a model to predict the app rating, with other information about the app provided.\n"
   ]
  },
  {
   "cell_type": "code",
   "execution_count": null,
   "id": "c16bc54b",
   "metadata": {},
   "outputs": [],
   "source": [
    "import pandas as pd\n",
    "import numpy as np\n",
    "import matplotlib.pyplot as plt\n",
    "import seaborn as sns"
   ]
  },
  {
   "cell_type": "code",
   "execution_count": null,
   "id": "b39043e1",
   "metadata": {},
   "outputs": [],
   "source": [
    "appdata = pd.read_csv('googleplaystore.csv')"
   ]
  },
  {
   "cell_type": "code",
   "execution_count": null,
   "id": "a67dd528",
   "metadata": {
    "scrolled": true
   },
   "outputs": [],
   "source": [
    "appdata.head(5)"
   ]
  },
  {
   "cell_type": "code",
   "execution_count": null,
   "id": "e7b96f76",
   "metadata": {},
   "outputs": [],
   "source": [
    "appdata.tail(5)"
   ]
  },
  {
   "cell_type": "code",
   "execution_count": null,
   "id": "e00ea6ce",
   "metadata": {},
   "outputs": [],
   "source": [
    "len(appdata)"
   ]
  },
  {
   "cell_type": "code",
   "execution_count": null,
   "id": "e7259f08",
   "metadata": {},
   "outputs": [],
   "source": []
  },
  {
   "cell_type": "markdown",
   "id": "efd6950e",
   "metadata": {},
   "source": [
    "## Null Values"
   ]
  },
  {
   "cell_type": "code",
   "execution_count": null,
   "id": "aa64e742",
   "metadata": {},
   "outputs": [],
   "source": [
    "appdata.isna().sum()"
   ]
  },
  {
   "cell_type": "code",
   "execution_count": null,
   "id": "db92f2bc",
   "metadata": {},
   "outputs": [],
   "source": []
  },
  {
   "cell_type": "markdown",
   "id": "67b11e2f",
   "metadata": {},
   "source": [
    "## Drop records with nulls in any of the columns."
   ]
  },
  {
   "cell_type": "code",
   "execution_count": null,
   "id": "e03f211b",
   "metadata": {},
   "outputs": [],
   "source": [
    "appdata = appdata.dropna(axis = 0, how = 'any')"
   ]
  },
  {
   "cell_type": "code",
   "execution_count": null,
   "id": "b4284c57",
   "metadata": {
    "scrolled": true
   },
   "outputs": [],
   "source": [
    "appdata"
   ]
  },
  {
   "cell_type": "code",
   "execution_count": null,
   "id": "2ffe7672",
   "metadata": {
    "scrolled": true
   },
   "outputs": [],
   "source": [
    "appdata.isna().sum()"
   ]
  },
  {
   "cell_type": "code",
   "execution_count": null,
   "id": "b5e59054",
   "metadata": {},
   "outputs": [],
   "source": []
  },
  {
   "cell_type": "markdown",
   "id": "ab2ce034",
   "metadata": {},
   "source": [
    "# convert \"size\" column Mb to Kb"
   ]
  },
  {
   "cell_type": "code",
   "execution_count": null,
   "id": "db2fe203",
   "metadata": {},
   "outputs": [],
   "source": [
    "sizeunique = appdata['Size'].unique()"
   ]
  },
  {
   "cell_type": "code",
   "execution_count": null,
   "id": "dd301a02",
   "metadata": {
    "scrolled": true
   },
   "outputs": [],
   "source": [
    "sizeunique"
   ]
  },
  {
   "cell_type": "code",
   "execution_count": null,
   "id": "b24ab9db",
   "metadata": {},
   "outputs": [],
   "source": [
    "def size(value):\n",
    "    if value[-1:] == 'M':\n",
    "        return float(value[:-1])*1000\n",
    "    elif value[-1:] == 'k':\n",
    "        return float(value[:-1])\n",
    "    else:\n",
    "        return np.nan"
   ]
  },
  {
   "cell_type": "code",
   "execution_count": null,
   "id": "2856d4da",
   "metadata": {},
   "outputs": [],
   "source": [
    "appdata['Size'] = appdata['Size'].map(lambda x: size(x))"
   ]
  },
  {
   "cell_type": "code",
   "execution_count": null,
   "id": "6b119162",
   "metadata": {
    "scrolled": true
   },
   "outputs": [],
   "source": [
    "sizeunique = appdata['Size'].unique()\n",
    "sizeunique"
   ]
  },
  {
   "cell_type": "code",
   "execution_count": null,
   "id": "3dca4a83",
   "metadata": {},
   "outputs": [],
   "source": [
    "appdata.Size.describe()"
   ]
  },
  {
   "cell_type": "code",
   "execution_count": null,
   "id": "052fb3b4",
   "metadata": {
    "scrolled": true
   },
   "outputs": [],
   "source": [
    "appdata.isna().sum()"
   ]
  },
  {
   "cell_type": "code",
   "execution_count": null,
   "id": "17b5bca9",
   "metadata": {},
   "outputs": [],
   "source": [
    "'''\n",
    "for i in appdata.columns[appdata.isnull().any(axis=0)]:     #---Applying Only on variables with NaN values .. fill mean at N\n",
    "    appdata[i].fillna(appdata[i].mean(),inplace=True)\n",
    "'''"
   ]
  },
  {
   "cell_type": "code",
   "execution_count": null,
   "id": "befd55ac",
   "metadata": {
    "scrolled": true
   },
   "outputs": [],
   "source": [
    "#appdata.Size.unique()"
   ]
  },
  {
   "cell_type": "code",
   "execution_count": null,
   "id": "77bc08c0",
   "metadata": {},
   "outputs": [],
   "source": [
    "#appdata.isna().sum()"
   ]
  },
  {
   "cell_type": "code",
   "execution_count": null,
   "id": "17ce95f2",
   "metadata": {},
   "outputs": [],
   "source": []
  },
  {
   "cell_type": "markdown",
   "id": "f7e0b6d7",
   "metadata": {},
   "source": [
    "# Type of data"
   ]
  },
  {
   "cell_type": "code",
   "execution_count": null,
   "id": "a20d2fc2",
   "metadata": {},
   "outputs": [],
   "source": [
    "appdata.dtypes"
   ]
  },
  {
   "cell_type": "code",
   "execution_count": null,
   "id": "2aebae96",
   "metadata": {},
   "outputs": [],
   "source": []
  },
  {
   "cell_type": "markdown",
   "id": "35787457",
   "metadata": {},
   "source": [
    "## convert object to numeric"
   ]
  },
  {
   "cell_type": "code",
   "execution_count": null,
   "id": "f0c838ad",
   "metadata": {},
   "outputs": [],
   "source": [
    "appdata['Reviews'] = pd.to_numeric(appdata['Reviews'])"
   ]
  },
  {
   "cell_type": "code",
   "execution_count": null,
   "id": "836531bc",
   "metadata": {},
   "outputs": [],
   "source": [
    "appdata.Reviews.dtypes"
   ]
  },
  {
   "cell_type": "markdown",
   "id": "5002f1c5",
   "metadata": {},
   "source": [
    "# remove \"+,\" from \"Install\" column and convert in float"
   ]
  },
  {
   "cell_type": "code",
   "execution_count": null,
   "id": "25017f33",
   "metadata": {},
   "outputs": [],
   "source": [
    "import warnings\n",
    "warnings.filterwarnings(\"ignore\")"
   ]
  },
  {
   "cell_type": "code",
   "execution_count": null,
   "id": "2e17c359",
   "metadata": {},
   "outputs": [],
   "source": [
    "appdata['Installs']=appdata['Installs'].astype(str)     # converting datatype to string"
   ]
  },
  {
   "cell_type": "code",
   "execution_count": null,
   "id": "fe561e5e",
   "metadata": {
    "scrolled": true
   },
   "outputs": [],
   "source": [
    "appdata['Installs']=appdata['Installs'].str.replace(',','')    # removing characters"
   ]
  },
  {
   "cell_type": "code",
   "execution_count": null,
   "id": "6448ace4",
   "metadata": {
    "scrolled": true
   },
   "outputs": [],
   "source": [
    "appdata"
   ]
  },
  {
   "cell_type": "code",
   "execution_count": null,
   "id": "565c56e9",
   "metadata": {},
   "outputs": [],
   "source": []
  },
  {
   "cell_type": "code",
   "execution_count": null,
   "id": "d1db0974",
   "metadata": {},
   "outputs": [],
   "source": [
    "appdata['Installs']=appdata['Installs'].str.replace('+','')   #removing +"
   ]
  },
  {
   "cell_type": "code",
   "execution_count": null,
   "id": "05fdfcc4",
   "metadata": {
    "scrolled": true
   },
   "outputs": [],
   "source": [
    "appdata"
   ]
  },
  {
   "cell_type": "code",
   "execution_count": null,
   "id": "f979ad94",
   "metadata": {},
   "outputs": [],
   "source": [
    "appdata['Installs']=appdata['Installs'].astype(float)"
   ]
  },
  {
   "cell_type": "code",
   "execution_count": null,
   "id": "b4fb1383",
   "metadata": {},
   "outputs": [],
   "source": [
    "appdata['Installs'].dtypes"
   ]
  },
  {
   "cell_type": "code",
   "execution_count": null,
   "id": "04e41953",
   "metadata": {},
   "outputs": [],
   "source": []
  },
  {
   "cell_type": "markdown",
   "id": "ad4d9a36",
   "metadata": {},
   "source": [
    "# 4. Price field is a string and has 'dollar' symbol. Remove and convert it to numeric.\n",
    "\n",
    "remove $ and convert Price column to numeric\n",
    " "
   ]
  },
  {
   "cell_type": "code",
   "execution_count": null,
   "id": "0839d632",
   "metadata": {},
   "outputs": [],
   "source": [
    "appdata['Price'] = appdata['Price'].astype(str)    # converting to string"
   ]
  },
  {
   "cell_type": "code",
   "execution_count": null,
   "id": "f96f8878",
   "metadata": {},
   "outputs": [],
   "source": [
    "appdata['Price'] = appdata['Price'].str.replace('$','')"
   ]
  },
  {
   "cell_type": "code",
   "execution_count": null,
   "id": "caf4e859",
   "metadata": {},
   "outputs": [],
   "source": [
    "appdata['Price'].unique()"
   ]
  },
  {
   "cell_type": "code",
   "execution_count": null,
   "id": "96efcd91",
   "metadata": {},
   "outputs": [],
   "source": [
    "appdata['Price'] = pd.to_numeric(appdata['Price'])\n",
    "appdata['Price'].dtypes"
   ]
  },
  {
   "cell_type": "markdown",
   "id": "dd455a42",
   "metadata": {},
   "source": [
    "### .................................observations...............................\n",
    "    Price column has some values which are very high and these values will act like outliers.\n",
    "    need to replace them with average value.\n",
    "    "
   ]
  },
  {
   "cell_type": "code",
   "execution_count": null,
   "id": "0d0949ca",
   "metadata": {},
   "outputs": [],
   "source": []
  },
  {
   "cell_type": "markdown",
   "id": "c2a19eae",
   "metadata": {},
   "source": [
    "# 5. Sanity checks:\n",
    " "
   ]
  },
  {
   "cell_type": "markdown",
   "id": "b03a4211",
   "metadata": {},
   "source": [
    "### 1. Average rating should be between 1 and 5 as only these values are allowed on the play store."
   ]
  },
  {
   "cell_type": "code",
   "execution_count": null,
   "id": "bb51e542",
   "metadata": {},
   "outputs": [],
   "source": [
    "appdata.Rating.max()      # checking for miximum rating"
   ]
  },
  {
   "cell_type": "code",
   "execution_count": null,
   "id": "d52f7f5b",
   "metadata": {
    "scrolled": true
   },
   "outputs": [],
   "source": [
    "appdata.Rating.min()      # checking for minimum rating"
   ]
  },
  {
   "cell_type": "markdown",
   "id": "1d8c8ea7",
   "metadata": {},
   "source": [
    "### .....................................observation................................\n",
    "    The minimum and maximum rating is in between 1 to 5.\n",
    "    No rating below 1 and above 5."
   ]
  },
  {
   "cell_type": "code",
   "execution_count": null,
   "id": "46d42481",
   "metadata": {},
   "outputs": [],
   "source": []
  },
  {
   "cell_type": "markdown",
   "id": "9d1d625a",
   "metadata": {},
   "source": [
    "### 2. Reviews should not be more than installs as only those who installed can review the app."
   ]
  },
  {
   "cell_type": "code",
   "execution_count": null,
   "id": "53372d76",
   "metadata": {},
   "outputs": [],
   "source": [
    "appdata['Reviews'] = appdata['Reviews'].where(appdata['Reviews']<=appdata['Installs'])\n",
    "appdata['Reviews']"
   ]
  },
  {
   "cell_type": "code",
   "execution_count": null,
   "id": "02ddf57e",
   "metadata": {},
   "outputs": [],
   "source": [
    "appdata['Reviews'].isnull().sum()"
   ]
  },
  {
   "cell_type": "code",
   "execution_count": null,
   "id": "9c7f984e",
   "metadata": {
    "scrolled": true
   },
   "outputs": [],
   "source": [
    "appdata = appdata.dropna()"
   ]
  },
  {
   "cell_type": "code",
   "execution_count": null,
   "id": "fe40bf5f",
   "metadata": {},
   "outputs": [],
   "source": [
    "appdata.shape"
   ]
  },
  {
   "cell_type": "markdown",
   "id": "37ed8f5f",
   "metadata": {},
   "source": [
    "\n",
    "### ...............................observations...................................\n",
    "    In 7 records reviews are more than installs.\n",
    "    It means these are fake records, and not important to keep.\n",
    "    so, I dropped such records.\n",
    "    \n",
    "    "
   ]
  },
  {
   "cell_type": "markdown",
   "id": "9c1c2720",
   "metadata": {},
   "source": [
    "### 3. For free apps (type = “Free”), the price should not be >0."
   ]
  },
  {
   "cell_type": "code",
   "execution_count": null,
   "id": "7ea4e447",
   "metadata": {},
   "outputs": [],
   "source": [
    "free_price = appdata['Type'].where(appdata['Price']>0)    # to saggregate data where price>0 .... if we get 'free' then we have to remove it "
   ]
  },
  {
   "cell_type": "code",
   "execution_count": null,
   "id": "440dd000",
   "metadata": {},
   "outputs": [],
   "source": [
    "free_price.unique()      # here we are not seeing free in output .... it means there is no free app with price."
   ]
  },
  {
   "cell_type": "markdown",
   "id": "44014dc0",
   "metadata": {},
   "source": [
    "\n",
    "### ....................................observations...............................\n",
    "    1. by using where command we will get all those records which has value more than zero.\n",
    "    2. if free apps charging price then 'Free' will appear in the results.\n",
    "    \n",
    "    There is no 'Free' app which has price more than 0. "
   ]
  },
  {
   "cell_type": "code",
   "execution_count": null,
   "id": "49953029",
   "metadata": {},
   "outputs": [],
   "source": []
  },
  {
   "cell_type": "markdown",
   "id": "685444b0",
   "metadata": {},
   "source": [
    "# 5. Performing univariate analysis:"
   ]
  },
  {
   "cell_type": "code",
   "execution_count": null,
   "id": "ee86d59d",
   "metadata": {},
   "outputs": [],
   "source": [
    "import matplotlib.pyplot as plt\n",
    "import seaborn as sns"
   ]
  },
  {
   "cell_type": "markdown",
   "id": "22407043",
   "metadata": {},
   "source": [
    "### • Boxplot for Price"
   ]
  },
  {
   "cell_type": "code",
   "execution_count": null,
   "id": "1bb55064",
   "metadata": {},
   "outputs": [],
   "source": [
    "plt.figure(figsize=(12,3))\n",
    "sns.boxplot(x=appdata.Price)"
   ]
  },
  {
   "cell_type": "markdown",
   "id": "630d6280",
   "metadata": {},
   "source": [
    "\n",
    "### .............................observations............................\n",
    "\n",
    "    1. In above data 'Price' of apps are in between 0 to 400 dollar.\n",
    "    2. Generally average price of any app on play store is around 9 dollar.\n",
    "    3. App having prices of 200 or more are too expensive for a customer to buy.\n",
    "    4. those apps may be fake also."
   ]
  },
  {
   "cell_type": "code",
   "execution_count": null,
   "id": "c03d4b0a",
   "metadata": {},
   "outputs": [],
   "source": []
  },
  {
   "cell_type": "markdown",
   "id": "b6c0c0db",
   "metadata": {},
   "source": [
    "### • Boxplot for Reviews\n",
    "   "
   ]
  },
  {
   "cell_type": "code",
   "execution_count": null,
   "id": "60601221",
   "metadata": {
    "scrolled": false
   },
   "outputs": [],
   "source": [
    "plt.figure(figsize=(16,3))\n",
    "sns.boxplot(x=appdata.Reviews.values)\n",
    "plt.xlabel('Reviews')\n",
    "\n",
    "plt.figure(figsize=(16,3))\n",
    "sns.boxplot(x=appdata.Reviews.values)\n",
    "plt.xlabel('Reviews')\n",
    "plt.xscale('log')                          #  log "
   ]
  },
  {
   "cell_type": "markdown",
   "id": "b6b34f05",
   "metadata": {},
   "source": [
    "### .............................observations................................\n",
    "    \n",
    "    The values aren't spread well.\n",
    "    More values are concentrated within 0.1 million(1 lakh) reviews.\n",
    "    It has so many outliers.\n",
    "    To normalize this data we need a perticular threshold value\n",
    "    "
   ]
  },
  {
   "cell_type": "code",
   "execution_count": null,
   "id": "d86b373a",
   "metadata": {},
   "outputs": [],
   "source": []
  },
  {
   "cell_type": "markdown",
   "id": "6d976ea9",
   "metadata": {},
   "source": [
    "### • Histogram for Rating\n",
    "   "
   ]
  },
  {
   "cell_type": "code",
   "execution_count": null,
   "id": "e643113f",
   "metadata": {},
   "outputs": [],
   "source": [
    "plt.figure(figsize=(16,6))\n",
    "sns.histplot(data=appdata, x='Rating', binwidth=0.1)\n",
    "plt.title('Rating')"
   ]
  },
  {
   "cell_type": "markdown",
   "id": "bf0c1819",
   "metadata": {},
   "source": [
    "### ......................................observations..............................\n",
    "    The distribution of data is not normal.\n",
    "    The rating values are more towards higher ratings.\n",
    "    "
   ]
  },
  {
   "cell_type": "code",
   "execution_count": null,
   "id": "25cb16f7",
   "metadata": {},
   "outputs": [],
   "source": []
  },
  {
   "cell_type": "markdown",
   "id": "472836be",
   "metadata": {},
   "source": [
    "### • Histogram for Size\n"
   ]
  },
  {
   "cell_type": "code",
   "execution_count": null,
   "id": "e672caa3",
   "metadata": {},
   "outputs": [],
   "source": [
    "plt.figure(figsize=(16,6))\n",
    "sns.histplot(data=appdata, x='Size', binwidth=2000)  \n",
    "plt.title('Size (kb)')"
   ]
  },
  {
   "cell_type": "markdown",
   "id": "e66ce478",
   "metadata": {},
   "source": [
    "### .................................observations.................................\n",
    "    \n",
    "    The data of 'Size' is more towards lower size.\n",
    "    In above for plots Price and Reviews are have outliers and their impact is high.\n",
    "    However, 'Rating' and 'Size' are not distributed evenly."
   ]
  },
  {
   "cell_type": "code",
   "execution_count": null,
   "id": "fc6e0ca6",
   "metadata": {},
   "outputs": [],
   "source": []
  },
  {
   "cell_type": "markdown",
   "id": "1abce4d8",
   "metadata": {},
   "source": [
    "# 6. Outlier treatment\n"
   ]
  },
  {
   "cell_type": "code",
   "execution_count": null,
   "id": "f0d790ab",
   "metadata": {},
   "outputs": [],
   "source": []
  },
  {
   "cell_type": "markdown",
   "id": "451d7c78",
   "metadata": {},
   "source": [
    "### 1. Price: \n",
    "    From the box plot, it seems like there are some apps with very high price. \n",
    "    A price of dollar 400 for an application on the Play Store is very high and suspicious."
   ]
  },
  {
   "cell_type": "code",
   "execution_count": null,
   "id": "5b083e7b",
   "metadata": {},
   "outputs": [],
   "source": []
  },
  {
   "cell_type": "code",
   "execution_count": null,
   "id": "1c012240",
   "metadata": {},
   "outputs": [],
   "source": [
    "appdata['Price'].sort_values(ascending=False).head(20)    # checking records with very high price"
   ]
  },
  {
   "cell_type": "code",
   "execution_count": null,
   "id": "636423b5",
   "metadata": {},
   "outputs": [],
   "source": [
    "# droping records which have values more than 200\n",
    "\n",
    "appdata['Price'] = appdata['Price'].where(appdata['Price']<200)"
   ]
  },
  {
   "cell_type": "code",
   "execution_count": null,
   "id": "8f6eedf5",
   "metadata": {
    "scrolled": true
   },
   "outputs": [],
   "source": [
    "appdata['Price'].sort_values(ascending=False).head(20)     # after removing apps of price more than $200"
   ]
  },
  {
   "cell_type": "markdown",
   "id": "ba63d3e8",
   "metadata": {},
   "source": [
    "### ...............................observations............................\n",
    "\n",
    "    $400 is indeed a very high price for any app\n",
    "    15 records are there where the price is more than $200.\n",
    "    other all records price is not more than $80.\n",
    "    apps having price more than $200 are of no use for analysis.\n",
    "    \n",
    "    after dropping record highest price for an app is not more than $80."
   ]
  },
  {
   "cell_type": "code",
   "execution_count": null,
   "id": "d56f959c",
   "metadata": {},
   "outputs": [],
   "source": []
  },
  {
   "cell_type": "markdown",
   "id": "e66fb7c6",
   "metadata": {},
   "source": [
    "### 2. Reviews: \n",
    "    Very few apps have very high number of reviews. \n",
    "    These are all star apps that don’t help with the analysis and, in fact, will skew it. \n",
    "    Droping records having more than 2 million reviews."
   ]
  },
  {
   "cell_type": "code",
   "execution_count": null,
   "id": "a368d1a2",
   "metadata": {},
   "outputs": [],
   "source": [
    "appdata.sort_values(['Reviews'], ascending=False).head(50)   # sorting data by reviews in descending order"
   ]
  },
  {
   "cell_type": "code",
   "execution_count": null,
   "id": "c4a8808e",
   "metadata": {
    "scrolled": true
   },
   "outputs": [],
   "source": [
    "appdata['Reviews'] = appdata['Reviews'].where(appdata['Reviews']<2000000)   # dropind records of more than 2 million reviews"
   ]
  },
  {
   "cell_type": "code",
   "execution_count": null,
   "id": "b23a5bc7",
   "metadata": {},
   "outputs": [],
   "source": [
    "appdata.sort_values(['Reviews'], ascending=False).head(50)   # sorting data by reviews in descending order"
   ]
  },
  {
   "cell_type": "code",
   "execution_count": null,
   "id": "d6571f8b",
   "metadata": {},
   "outputs": [],
   "source": [
    "plt.figure(figsize=(14,3))\n",
    "sns.boxplot(x=appdata.Reviews)\n",
    "plt.xscale('log')"
   ]
  },
  {
   "cell_type": "code",
   "execution_count": null,
   "id": "d41fcd14",
   "metadata": {},
   "outputs": [],
   "source": []
  },
  {
   "cell_type": "markdown",
   "id": "5f4853af",
   "metadata": {},
   "source": [
    "### 3. Installs: \n",
    "    \n",
    "    Apps having very high number of installs should be dropped from the analysis."
   ]
  },
  {
   "cell_type": "code",
   "execution_count": null,
   "id": "eb298f00",
   "metadata": {},
   "outputs": [],
   "source": [
    "q1,q2,q3,q4,q5,q6,q7 = np.percentile(appdata.Installs,[10,25,50,70,90,95,99])   # getting percentiles"
   ]
  },
  {
   "cell_type": "code",
   "execution_count": null,
   "id": "7521384f",
   "metadata": {
    "scrolled": true
   },
   "outputs": [],
   "source": [
    "print(f'''q10={q1} q25={q2} q50={q3} q70={q4} q90={q5} q95={q6} q99={q7}''')"
   ]
  },
  {
   "cell_type": "markdown",
   "id": "34e15cc7",
   "metadata": {},
   "source": [
    "### .........................................observations.......................................\n",
    "    1. 50% of installs are under 0.1 million.\n",
    "    2. 70% of installs are under 1 million.\n",
    "    3. 90% of installs are under 10 million.\n",
    "    4. 95% of installs are under 50 million.\n",
    "    \n",
    "    my most of the data is under 10 million.\n",
    "    90% of data lies in between 1 install to 10 million installs.\n",
    "    remaining 10% data lies in between 10 million to 100 million installs.\n",
    "    \n",
    "    here I will take 90 percentile to drop outlier records."
   ]
  },
  {
   "cell_type": "code",
   "execution_count": null,
   "id": "57b73640",
   "metadata": {},
   "outputs": [],
   "source": [
    "appdata['Installs'].describe()"
   ]
  },
  {
   "cell_type": "markdown",
   "id": "327d5ba3",
   "metadata": {},
   "source": [
    "\n",
    "### ..................................observations.........................................\n",
    "\n",
    "    1. maximum installs = 100000000 (100 million)\n",
    "    2. minimum installs = 1\n",
    "    3. mean of installs = 8424070 (8.2 million)\n",
    "    4. standard deviation = 50157420 (50.15 million)\n",
    "    \n",
    "    outliers are affecting mean.\n",
    "    "
   ]
  },
  {
   "cell_type": "code",
   "execution_count": null,
   "id": "4ed1d522",
   "metadata": {},
   "outputs": [],
   "source": []
  },
  {
   "cell_type": "markdown",
   "id": "05971a35",
   "metadata": {},
   "source": [
    "###  drop records from installs more than threshold value"
   ]
  },
  {
   "cell_type": "code",
   "execution_count": null,
   "id": "4676b27f",
   "metadata": {},
   "outputs": [],
   "source": [
    "appdata['Installs']= appdata.Installs.where(appdata['Installs']<=10000000)\n",
    "appdata"
   ]
  },
  {
   "cell_type": "code",
   "execution_count": null,
   "id": "9d845bd1",
   "metadata": {
    "scrolled": true
   },
   "outputs": [],
   "source": [
    "appdata.isnull().sum()"
   ]
  },
  {
   "cell_type": "markdown",
   "id": "f5289985",
   "metadata": {},
   "source": [
    "### .........................observations...........................\n",
    "\n",
    "    1. Total 388 records have been dropped.\n",
    "    2. Column Reviews, Installs and Price have some nan values."
   ]
  },
  {
   "cell_type": "code",
   "execution_count": null,
   "id": "ba8af47d",
   "metadata": {},
   "outputs": [],
   "source": []
  },
  {
   "cell_type": "markdown",
   "id": "091e8457",
   "metadata": {},
   "source": [
    "# 7. Bivariate analysis: Let’s look at how the available predictors relate to the variable "
   ]
  },
  {
   "cell_type": "markdown",
   "id": "e4c8b23a",
   "metadata": {},
   "source": [
    "### 1. scatter plot for Rating vs. Price"
   ]
  },
  {
   "cell_type": "code",
   "execution_count": null,
   "id": "d58d94e2",
   "metadata": {},
   "outputs": [],
   "source": [
    "# scatterplot\n",
    "\n",
    "plt.figure(figsize=(13,5))\n",
    "sns.scatterplot(x=appdata.Price, y=appdata.Rating)"
   ]
  },
  {
   "cell_type": "markdown",
   "id": "9476d0e7",
   "metadata": {},
   "source": [
    "### ..........................observations.............................\n",
    "\n",
    "    1. Maximum apps are free.\n",
    "    2. apps with high price don't have low ratings.\n",
    "    3. apps with price have more higher ratings"
   ]
  },
  {
   "cell_type": "markdown",
   "id": "cfa314e2",
   "metadata": {},
   "source": [
    "### scatter plot for Rating vs. Size"
   ]
  },
  {
   "cell_type": "code",
   "execution_count": null,
   "id": "c0a3dc6a",
   "metadata": {
    "scrolled": true
   },
   "outputs": [],
   "source": [
    "# scatterplot\n",
    "\n",
    "plt.figure(figsize=(13,5))\n",
    "sns.scatterplot(x=appdata.Size, y=appdata.Rating)"
   ]
  },
  {
   "cell_type": "markdown",
   "id": "105c7146",
   "metadata": {},
   "source": [
    "\n",
    "### ..............................observations................................\n",
    "\n",
    "    1. It looks heavier apps have slightly high ratings than lighter.\n",
    "    2. Rating is concentrated towards higher rating\n",
    "    "
   ]
  },
  {
   "cell_type": "markdown",
   "id": "f06baa00",
   "metadata": {},
   "source": [
    "### scatter plot for Rating vs. Reviews"
   ]
  },
  {
   "cell_type": "code",
   "execution_count": null,
   "id": "7cb51bbd",
   "metadata": {
    "scrolled": true
   },
   "outputs": [],
   "source": [
    "# scatterplot\n",
    "\n",
    "plt.figure(figsize=(13,5))\n",
    "sns.scatterplot(x=appdata.Reviews, y=appdata.Rating)\n",
    "plt.xscale('log')"
   ]
  },
  {
   "cell_type": "markdown",
   "id": "82eaf77c",
   "metadata": {},
   "source": [
    "\n",
    "### ..............................observations...........................\n",
    "\n",
    "    1. Looks like more the review better the rating.\n",
    "    2. concentration of data towards higher rating increases as the reviews increase.\n",
    "    "
   ]
  },
  {
   "cell_type": "code",
   "execution_count": null,
   "id": "847a3a82",
   "metadata": {
    "scrolled": false
   },
   "outputs": [],
   "source": [
    "# scatterplot\n",
    "\n",
    "plt.figure(figsize=(16,5))\n",
    "sns.jointplot(y=appdata.Reviews, x=appdata.Rating)\n",
    "#plt.xscale('log')"
   ]
  },
  {
   "cell_type": "code",
   "execution_count": null,
   "id": "8444c58c",
   "metadata": {},
   "outputs": [],
   "source": []
  },
  {
   "cell_type": "markdown",
   "id": "80e83519",
   "metadata": {},
   "source": [
    "### boxplot for Rating vs. Content Rating"
   ]
  },
  {
   "cell_type": "code",
   "execution_count": null,
   "id": "5c53f942",
   "metadata": {
    "scrolled": false
   },
   "outputs": [],
   "source": [
    "# boxplot\n",
    "\n",
    "plt.figure(figsize=(13,5))\n",
    "sns.boxplot(x=appdata['Rating'], y=appdata['Content Rating'])"
   ]
  },
  {
   "cell_type": "markdown",
   "id": "a188d4fd",
   "metadata": {},
   "source": [
    "### .............................observations...............................\n",
    "\n",
    "    here lower rating is an outlier.\n",
    "    values are more towards higher rating.\n",
    "    Adults only genre has good ratings."
   ]
  },
  {
   "cell_type": "code",
   "execution_count": null,
   "id": "8bf39b8a",
   "metadata": {},
   "outputs": [],
   "source": []
  },
  {
   "cell_type": "markdown",
   "id": "c64b5fb2",
   "metadata": {},
   "source": [
    "### boxplot for Ratings vs. Category"
   ]
  },
  {
   "cell_type": "code",
   "execution_count": null,
   "id": "ed1fb34c",
   "metadata": {},
   "outputs": [],
   "source": [
    "# boxplot\n",
    "\n",
    "plt.figure(figsize=(10,14))\n",
    "sns.boxplot(x=appdata['Rating'], y=appdata['Category'])"
   ]
  },
  {
   "cell_type": "code",
   "execution_count": null,
   "id": "c5697bd8",
   "metadata": {},
   "outputs": [],
   "source": []
  },
  {
   "cell_type": "markdown",
   "id": "a8fb3009",
   "metadata": {},
   "source": [
    "# 8. Data preprocessing"
   ]
  },
  {
   "cell_type": "markdown",
   "id": "d8a0bb8c",
   "metadata": {},
   "source": [
    "###  creating copy of dataframe"
   ]
  },
  {
   "cell_type": "code",
   "execution_count": null,
   "id": "12ad86bc",
   "metadata": {},
   "outputs": [],
   "source": [
    "inp1 = appdata.copy()\n",
    "inp1"
   ]
  },
  {
   "cell_type": "code",
   "execution_count": null,
   "id": "576c2bda",
   "metadata": {},
   "outputs": [],
   "source": [
    "\n",
    "sns.distplot(x=inp1['Reviews'], kde=True)"
   ]
  },
  {
   "cell_type": "code",
   "execution_count": null,
   "id": "f528f88a",
   "metadata": {},
   "outputs": [],
   "source": [
    "\n",
    "sns.distplot(x=inp1['Installs'], kde=True)"
   ]
  },
  {
   "cell_type": "markdown",
   "id": "3daffa76",
   "metadata": {},
   "source": [
    "### ...................................observations.......................................\n",
    "    1. both Reviews and Installs are not normally distributed.\n",
    "    2. still they have outliers."
   ]
  },
  {
   "cell_type": "code",
   "execution_count": null,
   "id": "b421b62f",
   "metadata": {},
   "outputs": [],
   "source": [
    "# log transformation for Reviews and Install\n",
    "inp1['Reviews'] = np.log1p(inp1.Reviews)"
   ]
  },
  {
   "cell_type": "code",
   "execution_count": null,
   "id": "1725d72c",
   "metadata": {},
   "outputs": [],
   "source": [
    "inp1['Installs'] = np.log1p(inp1.Installs)"
   ]
  },
  {
   "cell_type": "code",
   "execution_count": null,
   "id": "45db36b5",
   "metadata": {},
   "outputs": [],
   "source": [
    "inp1"
   ]
  },
  {
   "cell_type": "code",
   "execution_count": null,
   "id": "9188a363",
   "metadata": {},
   "outputs": [],
   "source": [
    "sns.distplot(x=inp1['Reviews'], kde=True)"
   ]
  },
  {
   "cell_type": "code",
   "execution_count": null,
   "id": "cca84885",
   "metadata": {},
   "outputs": [],
   "source": [
    "sns.distplot(x=inp1['Installs'], kde=True)"
   ]
  },
  {
   "cell_type": "markdown",
   "id": "7e903509",
   "metadata": {},
   "source": [
    "### drop unnecessary columns"
   ]
  },
  {
   "cell_type": "code",
   "execution_count": null,
   "id": "42e4ef8a",
   "metadata": {},
   "outputs": [],
   "source": [
    "inp1.columns"
   ]
  },
  {
   "cell_type": "code",
   "execution_count": null,
   "id": "2fbcd70d",
   "metadata": {},
   "outputs": [],
   "source": [
    "del inp1['App']\n",
    "del inp1['Last Updated']\n",
    "del inp1['Current Ver']\n",
    "del inp1['Android Ver']"
   ]
  },
  {
   "cell_type": "code",
   "execution_count": null,
   "id": "2e528239",
   "metadata": {},
   "outputs": [],
   "source": [
    "inp1.columns"
   ]
  },
  {
   "cell_type": "code",
   "execution_count": null,
   "id": "87f53d96",
   "metadata": {},
   "outputs": [],
   "source": [
    "inp1"
   ]
  },
  {
   "cell_type": "markdown",
   "id": "9b9987e2",
   "metadata": {},
   "source": [
    "### checking NAN values"
   ]
  },
  {
   "cell_type": "code",
   "execution_count": null,
   "id": "0e790f44",
   "metadata": {},
   "outputs": [],
   "source": [
    "inp1.isnull().sum()"
   ]
  },
  {
   "cell_type": "code",
   "execution_count": null,
   "id": "f4ec70fd",
   "metadata": {},
   "outputs": [],
   "source": [
    "inp1.describe()"
   ]
  },
  {
   "cell_type": "markdown",
   "id": "86d41772",
   "metadata": {},
   "source": [
    "### getting median"
   ]
  },
  {
   "cell_type": "code",
   "execution_count": null,
   "id": "7b745b83",
   "metadata": {},
   "outputs": [],
   "source": [
    "import statistics"
   ]
  },
  {
   "cell_type": "code",
   "execution_count": null,
   "id": "3eeb9732",
   "metadata": {},
   "outputs": [],
   "source": [
    "statistics.median(inp1.Reviews)"
   ]
  },
  {
   "cell_type": "code",
   "execution_count": null,
   "id": "542f2cbe",
   "metadata": {},
   "outputs": [],
   "source": [
    "statistics.median(inp1.Installs)"
   ]
  },
  {
   "cell_type": "code",
   "execution_count": null,
   "id": "4390f73c",
   "metadata": {
    "scrolled": false
   },
   "outputs": [],
   "source": [
    "statistics.median(inp1.Price)"
   ]
  },
  {
   "cell_type": "markdown",
   "id": "89ac3149",
   "metadata": {},
   "source": [
    "### replacing NAN values with median"
   ]
  },
  {
   "cell_type": "code",
   "execution_count": null,
   "id": "7ef76446",
   "metadata": {},
   "outputs": [],
   "source": [
    "for i in inp1.columns[inp1.isnull().any(axis=0)]:     #---Applying Only on variables with NaN values\n",
    "    inp1[i].fillna(inp1[i].median(),inplace=True)"
   ]
  },
  {
   "cell_type": "code",
   "execution_count": null,
   "id": "e9e2645b",
   "metadata": {},
   "outputs": [],
   "source": [
    "inp1.isnull().sum()"
   ]
  },
  {
   "cell_type": "code",
   "execution_count": null,
   "id": "1b956a0e",
   "metadata": {},
   "outputs": [],
   "source": []
  },
  {
   "cell_type": "code",
   "execution_count": null,
   "id": "dcb814ba",
   "metadata": {},
   "outputs": [],
   "source": []
  },
  {
   "cell_type": "markdown",
   "id": "4df04553",
   "metadata": {},
   "source": [
    "###  dummy encoding"
   ]
  },
  {
   "cell_type": "code",
   "execution_count": null,
   "id": "c88d1a2a",
   "metadata": {},
   "outputs": [],
   "source": [
    "inp2 = pd.get_dummies(data=inp1, columns=['Category','Content Rating','Genres','Type'])"
   ]
  },
  {
   "cell_type": "code",
   "execution_count": null,
   "id": "56062d96",
   "metadata": {},
   "outputs": [],
   "source": [
    "pd.set_option('display.max_columns',200)\n",
    "inp2"
   ]
  },
  {
   "cell_type": "code",
   "execution_count": null,
   "id": "9e00ae5d",
   "metadata": {},
   "outputs": [],
   "source": [
    "x=inp2.iloc[:,1:]"
   ]
  },
  {
   "cell_type": "code",
   "execution_count": null,
   "id": "9d8ff5dc",
   "metadata": {},
   "outputs": [],
   "source": [
    "x"
   ]
  },
  {
   "cell_type": "code",
   "execution_count": null,
   "id": "8041be64",
   "metadata": {},
   "outputs": [],
   "source": [
    "y=inp2.loc[:,['Rating']]"
   ]
  },
  {
   "cell_type": "code",
   "execution_count": null,
   "id": "e8125ffd",
   "metadata": {},
   "outputs": [],
   "source": [
    "y"
   ]
  },
  {
   "cell_type": "markdown",
   "id": "d15df26a",
   "metadata": {},
   "source": [
    "## 9. splitting data into training and testing"
   ]
  },
  {
   "cell_type": "code",
   "execution_count": null,
   "id": "a05a8e65",
   "metadata": {},
   "outputs": [],
   "source": [
    "from sklearn.model_selection import train_test_split  \n",
    "x_train, x_test, y_train, y_test = train_test_split(x,y,test_size=0.3, random_state=0)  "
   ]
  },
  {
   "cell_type": "code",
   "execution_count": null,
   "id": "2c6e605e",
   "metadata": {},
   "outputs": [],
   "source": []
  },
  {
   "cell_type": "markdown",
   "id": "53a3fda3",
   "metadata": {},
   "source": [
    "## 11. Model building"
   ]
  },
  {
   "cell_type": "markdown",
   "id": "e31b9d70",
   "metadata": {},
   "source": [
    "### Fittinglinear regression model into the training set"
   ]
  },
  {
   "cell_type": "code",
   "execution_count": null,
   "id": "7510604a",
   "metadata": {},
   "outputs": [],
   "source": [
    "from sklearn.linear_model import LinearRegression\n",
    "regressor=LinearRegression()\n",
    "regressor.fit(x_train, y_train)     # giving training to model"
   ]
  },
  {
   "cell_type": "code",
   "execution_count": null,
   "id": "62c53efb",
   "metadata": {},
   "outputs": [],
   "source": []
  },
  {
   "cell_type": "markdown",
   "id": "5ce76f87",
   "metadata": {},
   "source": [
    "### predicting the test set results "
   ]
  },
  {
   "cell_type": "code",
   "execution_count": null,
   "id": "6af7665b",
   "metadata": {},
   "outputs": [],
   "source": [
    "y_pred = regressor.predict(x_test)"
   ]
  },
  {
   "cell_type": "code",
   "execution_count": null,
   "id": "65e2152a",
   "metadata": {},
   "outputs": [],
   "source": [
    "y_pred"
   ]
  },
  {
   "cell_type": "code",
   "execution_count": null,
   "id": "144f41bc",
   "metadata": {},
   "outputs": [],
   "source": [
    "y_test"
   ]
  },
  {
   "cell_type": "code",
   "execution_count": null,
   "id": "8ce77537",
   "metadata": {},
   "outputs": [],
   "source": [
    "x_test.shape"
   ]
  },
  {
   "cell_type": "code",
   "execution_count": null,
   "id": "e983c4f1",
   "metadata": {},
   "outputs": [],
   "source": [
    "y_test.shape"
   ]
  },
  {
   "cell_type": "code",
   "execution_count": null,
   "id": "503f51a0",
   "metadata": {},
   "outputs": [],
   "source": []
  },
  {
   "cell_type": "markdown",
   "id": "a6bb5966",
   "metadata": {},
   "source": [
    "###  Visualising the results"
   ]
  },
  {
   "cell_type": "code",
   "execution_count": null,
   "id": "32c7a155",
   "metadata": {
    "scrolled": true
   },
   "outputs": [],
   "source": [
    "plt.scatter(y_test, y_pred)\n",
    "plt.show()"
   ]
  },
  {
   "cell_type": "code",
   "execution_count": null,
   "id": "e6c1d1f6",
   "metadata": {},
   "outputs": [],
   "source": [
    "sns.regplot(x=y_test,y=y_pred,ci=None)"
   ]
  },
  {
   "cell_type": "code",
   "execution_count": null,
   "id": "4a12e7a8",
   "metadata": {},
   "outputs": [],
   "source": []
  },
  {
   "cell_type": "markdown",
   "id": "df888687",
   "metadata": {},
   "source": [
    "## 12. reporting r2"
   ]
  },
  {
   "cell_type": "code",
   "execution_count": null,
   "id": "d62c924d",
   "metadata": {},
   "outputs": [],
   "source": [
    "from sklearn.metrics import r2_score"
   ]
  },
  {
   "cell_type": "code",
   "execution_count": null,
   "id": "88180a1f",
   "metadata": {},
   "outputs": [],
   "source": [
    "accuracy = r2_score(y_test,y_pred)\n",
    "accuracy"
   ]
  },
  {
   "cell_type": "markdown",
   "id": "d0790fcb",
   "metadata": {},
   "source": [
    "###  difference between y_test and y_pred"
   ]
  },
  {
   "cell_type": "code",
   "execution_count": null,
   "id": "c710274e",
   "metadata": {},
   "outputs": [],
   "source": [
    "(y_test-y_pred).max()"
   ]
  },
  {
   "cell_type": "code",
   "execution_count": null,
   "id": "b9b156bf",
   "metadata": {},
   "outputs": [],
   "source": [
    "(y_test-y_pred).min()"
   ]
  },
  {
   "cell_type": "code",
   "execution_count": null,
   "id": "15254647",
   "metadata": {},
   "outputs": [],
   "source": [
    "(y_test-y_pred).describe()     # describing difference between test and predicted results"
   ]
  },
  {
   "cell_type": "code",
   "execution_count": null,
   "id": "19952b58",
   "metadata": {},
   "outputs": [],
   "source": []
  },
  {
   "cell_type": "markdown",
   "id": "70ca12b7",
   "metadata": {},
   "source": [
    "## Observations\n",
    "\n",
    "    The model has very low accuracy.\n",
    "    Other parameters also have to consider like users gender, age, likes, users total use, region etc.\n",
    "    This means the data is insufficient to predict rating accurately.\n",
    "    after changing test_size also the accuracy is low.\n",
    "    \n",
    "    "
   ]
  },
  {
   "cell_type": "code",
   "execution_count": null,
   "id": "7b86ca03",
   "metadata": {},
   "outputs": [],
   "source": []
  }
 ],
 "metadata": {
  "kernelspec": {
   "display_name": "Python 3 (ipykernel)",
   "language": "python",
   "name": "python3"
  },
  "language_info": {
   "codemirror_mode": {
    "name": "ipython",
    "version": 3
   },
   "file_extension": ".py",
   "mimetype": "text/x-python",
   "name": "python",
   "nbconvert_exporter": "python",
   "pygments_lexer": "ipython3",
   "version": "3.9.12"
  }
 },
 "nbformat": 4,
 "nbformat_minor": 5
}
